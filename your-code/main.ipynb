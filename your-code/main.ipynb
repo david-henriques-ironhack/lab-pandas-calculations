{
 "cells": [
  {
   "cell_type": "markdown",
   "metadata": {},
   "source": [
    "# Challenge 3\n",
    "\n",
    "In this challenge we will work on the `Orders` data set. In your work you will apply the thinking process and workflow we showed you in Challenge 2.\n",
    "\n",
    "You are serving as a Business Intelligence Analyst at the headquarter of an international fashion goods chain store. Your boss today asked you to do two things for her:\n",
    "\n",
    "**First, identify two groups of customers from the data set.** The first group is **VIP Customers** whose **aggregated expenses** at your global chain stores are **above the 95th percentile** (aka. 0.95 quantile). The second group is **Preferred Customers** whose **aggregated expenses** are **between the 75th and 95th percentile**.\n",
    "\n",
    "**Second, identify which country has the most of your VIP customers, and which country has the most of your VIP+Preferred Customers combined.**"
   ]
  },
  {
   "cell_type": "markdown",
   "metadata": {},
   "source": [
    "## Q1: How to identify VIP & Preferred Customers?\n",
    "\n",
    "We start by importing all the required libraries:"
   ]
  },
  {
   "cell_type": "code",
   "execution_count": 1,
   "metadata": {},
   "outputs": [],
   "source": [
    "# import required libraries\n",
    "import numpy as np\n",
    "import pandas as pd"
   ]
  },
  {
   "cell_type": "markdown",
   "metadata": {},
   "source": [
    "Next, extract and import `Orders` dataset into a dataframe variable called `orders`. Print the head of `orders` to overview the data:"
   ]
  },
  {
   "cell_type": "code",
   "execution_count": 2,
   "metadata": {},
   "outputs": [
    {
     "name": "stdout",
     "output_type": "stream",
     "text": [
      "   Unnamed: 0  InvoiceNo StockCode  year  month  day  hour  \\\n",
      "0           0     536365    85123A  2010     12    3     8   \n",
      "1           1     536365     71053  2010     12    3     8   \n",
      "2           2     536365    84406B  2010     12    3     8   \n",
      "3           3     536365    84029G  2010     12    3     8   \n",
      "4           4     536365    84029E  2010     12    3     8   \n",
      "\n",
      "                           Description  Quantity          InvoiceDate  \\\n",
      "0   white hanging heart t-light holder         6  2010-12-01 08:26:00   \n",
      "1                  white metal lantern         6  2010-12-01 08:26:00   \n",
      "2       cream cupid hearts coat hanger         8  2010-12-01 08:26:00   \n",
      "3  knitted union flag hot water bottle         6  2010-12-01 08:26:00   \n",
      "4       red woolly hottie white heart.         6  2010-12-01 08:26:00   \n",
      "\n",
      "   UnitPrice  CustomerID         Country  amount_spent  \n",
      "0       2.55       17850  United Kingdom         15.30  \n",
      "1       3.39       17850  United Kingdom         20.34  \n",
      "2       2.75       17850  United Kingdom         22.00  \n",
      "3       3.39       17850  United Kingdom         20.34  \n",
      "4       3.39       17850  United Kingdom         20.34  \n"
     ]
    }
   ],
   "source": [
    "# your code here\n",
    "orders = pd.read_csv ('Orders.zip')\n",
    "print(orders.head())"
   ]
  },
  {
   "cell_type": "markdown",
   "metadata": {},
   "source": [
    "---\n",
    "\n",
    "\"Identify VIP and Preferred Customers\" is the non-technical goal of your boss. You need to translate that goal into technical languages that data analysts use:\n",
    "\n",
    "## How to label customers whose aggregated `amount_spent` is in a given quantile range?\n"
   ]
  },
  {
   "cell_type": "markdown",
   "metadata": {},
   "source": [
    "We break down the main problem into several sub problems:\n",
    "\n",
    "#### Sub Problem 1: How to aggregate the  `amount_spent` for unique customers?\n",
    "\n",
    "#### Sub Problem 2: How to select customers whose aggregated `amount_spent` is in a given quantile range?\n",
    "\n",
    "#### Sub Problem 3: How to label selected customers as \"VIP\" or \"Preferred\"?\n",
    "\n",
    "*Note: If you want to break down the main problem in a different way, please feel free to revise the sub problems above.*\n",
    "\n",
    "Now in the workspace below, tackle each of the sub problems using the iterative problem solving workflow. Insert cells as necessary to write your codes and explain your steps."
   ]
  },
  {
   "cell_type": "code",
   "execution_count": 11,
   "metadata": {},
   "outputs": [
    {
     "name": "stdout",
     "output_type": "stream",
     "text": [
      "   CustomerID  amount_spent customer_label\n",
      "0       12346      77183.60            VIP\n",
      "1       12347       4310.00            VIP\n",
      "2       12348       1797.24            VIP\n",
      "3       12349       1757.55            VIP\n",
      "4       12350        334.40        Regular\n"
     ]
    }
   ],
   "source": [
    "# Load the dataset\n",
    "orders = pd.read_csv('Orders.zip')\n",
    "\n",
    "# Step 1: Aggregate 'amount_spent' for each unique customer\n",
    "customer_spending = orders.groupby('CustomerID')['amount_spent'].sum().reset_index()\n",
    "\n",
    "# Step 2: Define quantile thresholds (for example, top 25% and top 50%)\n",
    "quantile_75 = customer_spending['amount_spent'].quantile(0.75)\n",
    "quantile_50 = customer_spending['amount_spent'].quantile(0.50)\n",
    "\n",
    "# Step 3: Label customers as 'VIP' or 'Preferred'\n",
    "customer_spending['customer_label'] = pd.cut(\n",
    "    customer_spending['amount_spent'],\n",
    "    bins=[0, quantile_50, quantile_75, float('inf')],\n",
    "    labels=['Regular', 'Preferred', 'VIP']\n",
    ")\n",
    "\n",
    "# Step 4: Merge customer labels back into the 'orders' DataFrame\n",
    "orders = orders.merge(customer_spending[['CustomerID', 'customer_label']], on='CustomerID', how='left')\n",
    "\n",
    "# Display the resulting DataFrame with customer labels\n",
    "print(customer_spending.head())\n"
   ]
  },
  {
   "cell_type": "markdown",
   "metadata": {},
   "source": [
    "Now we'll leave it to you to solve Q2 & Q3, which you can leverage from your solution for Q1:\n",
    "\n",
    "## Q2: How to identify which country has the most VIP Customers?"
   ]
  },
  {
   "cell_type": "code",
   "execution_count": 21,
   "metadata": {},
   "outputs": [
    {
     "name": "stdout",
     "output_type": "stream",
     "text": [
      "            Country  VIP_Count\n",
      "0    United Kingdom        356\n",
      "1           Germany         23\n",
      "2            France         18\n",
      "3             Spain          6\n",
      "4       Switzerland          5\n",
      "5            Norway          4\n",
      "6              EIRE          3\n",
      "7             Japan          3\n",
      "8           Belgium          2\n",
      "9          Portugal          2\n",
      "10          Finland          2\n",
      "11        Australia          2\n",
      "12          Iceland          1\n",
      "13           Cyprus          1\n",
      "14          Denmark          1\n",
      "15           Israel          1\n",
      "16        Singapore          1\n",
      "17           Poland          1\n",
      "18      Netherlands          1\n",
      "19  Channel Islands          1\n",
      "20           Sweden          1\n",
      "The country with the most VIP customers is: United Kingdom, with 356 VIP customers.\n"
     ]
    }
   ],
   "source": [
    "\n",
    "# 1. Group the data by CustomerID and Country, summing the total amount_spent per customer\n",
    "customer_spending = orders.groupby(['CustomerID', 'Country'])['amount_spent'].sum().reset_index()\n",
    "\n",
    "# 2. Calculate the 90th percentile (Q90) to identify VIP customers\n",
    "q90 = customer_spending['amount_spent'].quantile(0.90)\n",
    "\n",
    "# 3. Function to label customers as VIP if their spending is greater than or equal to the 90th percentile\n",
    "def label_customer(spent):\n",
    "    if spent >= q90:\n",
    "        return 'VIP'\n",
    "    else:\n",
    "        return 'Regular'\n",
    "\n",
    "# Apply the function to label customers\n",
    "customer_spending['label'] = customer_spending['amount_spent'].apply(label_customer)\n",
    "\n",
    "# 4. Filter only VIP customers\n",
    "vip_customers = customer_spending[customer_spending['label'] == 'VIP']\n",
    "\n",
    "# 5. Count the number of VIPs by country\n",
    "vip_count_by_country = vip_customers['Country'].value_counts().reset_index()\n",
    "vip_count_by_country.columns = ['Country', 'VIP_Count']\n",
    "\n",
    "# Display the country with the most VIP customers\n",
    "top_country = vip_count_by_country.iloc[0]\n",
    "\n",
    "print(vip_count_by_country)\n",
    "print(f\"The country with the most VIP customers is: {top_country['Country']}, with {top_country['VIP_Count']} VIP customers.\")\n"
   ]
  },
  {
   "cell_type": "markdown",
   "metadata": {},
   "source": [
    "## Q3: How to identify which country has the most VIP+Preferred Customers combined?"
   ]
  },
  {
   "cell_type": "code",
   "execution_count": 26,
   "metadata": {},
   "outputs": [
    {
     "name": "stdout",
     "output_type": "stream",
     "text": [
      "            Country  VIP_Preferred_Count\n",
      "0         Australia                    4\n",
      "1           Austria                    1\n",
      "2           Belgium                   12\n",
      "3            Canada                    1\n",
      "4   Channel Islands                    4\n",
      "5            Cyprus                    3\n",
      "6           Denmark                    4\n",
      "7              EIRE                    3\n",
      "8           Finland                    5\n",
      "9            France                   29\n",
      "10          Germany                   39\n",
      "11           Greece                    1\n",
      "12          Iceland                    1\n",
      "13           Israel                    2\n",
      "14            Italy                    5\n",
      "15            Japan                    4\n",
      "16          Lebanon                    1\n",
      "17            Malta                    1\n",
      "18      Netherlands                    1\n",
      "19           Norway                    7\n",
      "20           Poland                    1\n",
      "21         Portugal                    7\n",
      "22        Singapore                    1\n",
      "23            Spain                    7\n",
      "24           Sweden                    2\n",
      "25      Switzerland                    9\n",
      "26   United Kingdom                  932\n",
      "The country with the most VIP + Preferred customers is: United Kingdom, with 932 customers.\n"
     ]
    }
   ],
   "source": [
    "# 1. Group the data by CustomerID and Country, summing the total amount_spent per customer\n",
    "customer_spending = orders.groupby(['CustomerID', 'Country'])['amount_spent'].sum().reset_index()\n",
    "\n",
    "# 2. Calculate the 75th and 90th percentiles to identify Preferred and VIP customers\n",
    "q75 = customer_spending['amount_spent'].quantile(0.75)\n",
    "q90 = customer_spending['amount_spent'].quantile(0.90)\n",
    "\n",
    "# 3. Function to label customers as VIP, Preferred, or Regular\n",
    "def label_customer(spent):\n",
    "    if spent >= q90:\n",
    "        return 'VIP'\n",
    "    elif spent >= q75:\n",
    "        return 'Preferred'\n",
    "    else:\n",
    "        return 'Regular'\n",
    "\n",
    "# 4. Apply the function to label customers\n",
    "customer_spending['label'] = customer_spending['amount_spent'].apply(label_customer)\n",
    "\n",
    "# 5. Filter only VIP and Preferred customers\n",
    "vip_preferred_customers = customer_spending[customer_spending['label'].isin(['VIP', 'Preferred'])]\n",
    "\n",
    "# 6. Count the number of VIP and Preferred customers by country\n",
    "vip_preferred_count_by_country = vip_preferred_customers.groupby('Country')['label'].count().reset_index()\n",
    "vip_preferred_count_by_country.columns = ['Country', 'VIP_Preferred_Count']\n",
    "\n",
    "# 7. Identify the country with the most VIP + Preferred customers\n",
    "top_country = vip_preferred_count_by_country.loc[vip_preferred_count_by_country['VIP_Preferred_Count'].idxmax()]\n",
    "\n",
    "# 8. Display the country with the most VIP + Preferred customers\n",
    "print(vip_preferred_count_by_country)\n",
    "print(f\"The country with the most VIP + Preferred customers is: {top_country['Country']}, with {top_country['VIP_Preferred_Count']} customers.\")"
   ]
  }
 ],
 "metadata": {
  "kernelspec": {
   "display_name": "Python 3",
   "language": "python",
   "name": "python3"
  },
  "language_info": {
   "codemirror_mode": {
    "name": "ipython",
    "version": 3
   },
   "file_extension": ".py",
   "mimetype": "text/x-python",
   "name": "python",
   "nbconvert_exporter": "python",
   "pygments_lexer": "ipython3",
   "version": "3.12.6"
  }
 },
 "nbformat": 4,
 "nbformat_minor": 2
}
